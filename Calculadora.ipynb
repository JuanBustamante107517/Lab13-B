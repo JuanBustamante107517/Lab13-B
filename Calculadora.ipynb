{
  "nbformat": 4,
  "nbformat_minor": 0,
  "metadata": {
    "colab": {
      "provenance": [],
      "authorship_tag": "ABX9TyNPTf+uK3nJsuUs0zMC7Ht2"
    },
    "kernelspec": {
      "name": "python3",
      "display_name": "Python 3"
    },
    "language_info": {
      "name": "python"
    }
  },
  "cells": [
    {
      "cell_type": "markdown",
      "source": [
        "## Creacion de una calculadora sencilla"
      ],
      "metadata": {
        "id": "SJg0sSBf9IIR"
      }
    },
    {
      "cell_type": "code",
      "source": [
        "#Definamos la funcion para la suma y la resta\n",
        "#Tomaremos 2 argumentos, 'a' y 'b', que serán números a sumar.\n",
        "def sumar(a,b):\n",
        "  #Retorna el resultadode la suma de 'a' y 'b'.\n",
        "  return a + b\n",
        "\n",
        "#Definimos la función para la resta\n",
        "#Tomaremos 2 argumentos, 'a' y 'b', que serán números a resta.\n",
        "def restar(a,b):\n",
        "   #Retorna el resultadode la resta de 'a' y 'b'.\n",
        "   return a - b\n",
        "\n",
        "#Definimos la función para la resta\n",
        "#Tomaremos 2 argumentos, 'a' y 'b', que serán números a multiplicación.\n",
        "def multiplicar(a,b):\n",
        "   #Retorna el resultadode la multiplicación de 'a' y 'b'.\n",
        "   return a * b\n",
        "\n",
        "#Definimos la función para la resta\n",
        "#Tomaremos 2 argumentos, 'a' y 'b', que serán números a división.\n",
        "def dividir(a,b):\n",
        "  #Antes de dividir, es crucial verificar que el divisor 'b' no sea cero.\n",
        "  #No se puede dividir por cero en matemáticas, y Python generaria error.\n",
        "  if b == 0:\n",
        "    #Si 'b' es cero, retornamos un mensaje de error en lugar de un numero.\n",
        "    return \"Error: No se puede dividir por cero\"\n",
        "  else:\n",
        "    #Si 'b' no es vero, retornamos el resultado de la división.\n",
        "    return a / b\n",
        "\n",
        "\n"
      ],
      "metadata": {
        "id": "PSHj09gH9NI9"
      },
      "execution_count": 2,
      "outputs": []
    },
    {
      "cell_type": "markdown",
      "source": [
        "##Presentar las opciones al ususario y obtener su elección"
      ],
      "metadata": {
        "id": "w8iYANBO2ssQ"
      }
    },
    {
      "cell_type": "code",
      "source": [
        "#Imprimimos un mensaje de bienvenida y las opciones de la calculadora.\n",
        "print(\"¡Bienvenido a la calculadora sencilla!\")\n",
        "print(\"1. Sumar\")\n",
        "print(\"2. Restar\")\n",
        "print(\"3. Multiplicar\")\n",
        "print(\"4. Dividir\")\n",
        "\n",
        "#Pedimos al usuario que ingrese su elección.\n",
        "#La función 'input()' lee la entrada del teclado como una cadena de texto.\n",
        "opcion = input(\"Ingresa el número de la operación (1/2/3/4): \")\n"
      ],
      "metadata": {
        "colab": {
          "base_uri": "https://localhost:8080/"
        },
        "id": "bWGSYDo212cK",
        "outputId": "acf75563-0174-48bb-9617-3a5d3bc31dc5"
      },
      "execution_count": 3,
      "outputs": [
        {
          "name": "stdout",
          "output_type": "stream",
          "text": [
            "¡Bienvenido a la calculadora sencilla!\n",
            "1. Sumar\n",
            "2. Restar\n",
            "3. Multiplicar\n",
            "4. Dividir\n",
            "Ingresa el número de la operación (1/2/3/4): 4\n"
          ]
        }
      ]
    },
    {
      "cell_type": "markdown",
      "source": [
        "##Obtener los números del ususario"
      ],
      "metadata": {
        "id": "5xUbhqbc21qN"
      }
    },
    {
      "cell_type": "code",
      "source": [
        "#Le pediremos al usuario que ingrese el primer número.\n",
        "# 'input()' siempre devuelve una cadena, por loo que usamos 'float()'\n",
        "#Esto nos permite trabajar con números enteros o decimales.\n",
        "num1 = float(input(\"Ingresa el primer número: \"))\n",
        "\n",
        "#Pedimos al usuario que ingrese el segundo número.\n",
        "num2 = float(input(\"Ingrese el segundo número: \"))"
      ],
      "metadata": {
        "colab": {
          "base_uri": "https://localhost:8080/"
        },
        "id": "5phqC1mL2qkE",
        "outputId": "1ea7116d-3aeb-430d-c8ea-9b2361bff6ea"
      },
      "execution_count": 4,
      "outputs": [
        {
          "name": "stdout",
          "output_type": "stream",
          "text": [
            "Ingresa el primer número: 4\n",
            "Ingrese el segundo número: 2\n"
          ]
        }
      ]
    },
    {
      "cell_type": "markdown",
      "source": [
        "## Realizar la operación según la elección del usuario"
      ],
      "metadata": {
        "id": "kPJwR4518GOt"
      }
    },
    {
      "cell_type": "code",
      "source": [
        "#Usaremos una estructura 'if-elif-else' para decidir que operacion relizamos.\n",
        "#Comparamos la 'opcion' que el usuario ingresó con los numeros de nuestras operaciones.\n",
        "\n",
        "if opcion == '1':\n",
        "  #Si la opción es '1', llamamos a la función 'sumar con 'num1' y 'num2'.\n",
        "  resultado = sumar(num1, num2)\n",
        "  #Imprimimos el resultado de la suma.\n",
        "  print(f\"El resultado de la suma es: {resultado}\")\n",
        "elif opcion == '2':\n",
        "  #Si la opción es '2', llamamos a la función 'restar'.\n",
        "  resultado = restar(num1, num2)\n",
        "  #Imprimimos el resultado de la resta.\n",
        "  print(f\"El resultado de la resta es: {resultado}\")\n",
        "elif opcion == '3':\n",
        "  #Si la opción es '3', llamamos a la función 'multiplicar'.\n",
        "  resultado = multiplicar(num1, num2)\n",
        "  #Imprimimos el resultado de la multiplicación.\n",
        "  print(f\"El resultado de la multiplicación es: {resultado}\")\n",
        "elif opcion == '4':\n",
        "  #Si la opción es '4', llamamos a la función 'dividir'.\n",
        "  resultado = dividir(num1, num2)\n",
        "  #Imprimimos el resultado de la divición.\n",
        "  print(f\"El resultado de la divición es: {resultado}\")\n",
        "else:\n",
        "  #Si la opción ingresada no es 1, 2, 3, o 4, mostramos un mensaje.\n",
        "  print(\"Opción no válida. Por favor, reinicia la calculadora y elige una opción valida.\")"
      ],
      "metadata": {
        "colab": {
          "base_uri": "https://localhost:8080/"
        },
        "id": "cVinvbTY8NyR",
        "outputId": "5a9bbfcf-a48e-48d2-c448-a8cf82802a95"
      },
      "execution_count": 5,
      "outputs": [
        {
          "output_type": "stream",
          "name": "stdout",
          "text": [
            "El resultado de la divición es: 2.0\n"
          ]
        }
      ]
    }
  ]
}