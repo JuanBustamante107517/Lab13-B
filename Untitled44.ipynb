{
  "nbformat": 4,
  "nbformat_minor": 0,
  "metadata": {
    "colab": {
      "provenance": [],
      "authorship_tag": "ABX9TyPpdEflW2+YsWmTycMmRSqm",
      "include_colab_link": true
    },
    "kernelspec": {
      "name": "python3",
      "display_name": "Python 3"
    },
    "language_info": {
      "name": "python"
    }
  },
  "cells": [
    {
      "cell_type": "markdown",
      "metadata": {
        "id": "view-in-github",
        "colab_type": "text"
      },
      "source": [
        "<a href=\"https://colab.research.google.com/github/JuanBustamante107517/Lab13-B/blob/main/Untitled44.ipynb\" target=\"_parent\"><img src=\"https://colab.research.google.com/assets/colab-badge.svg\" alt=\"Open In Colab\"/></a>"
      ]
    },
    {
      "cell_type": "code",
      "execution_count": 2,
      "metadata": {
        "colab": {
          "base_uri": "https://localhost:8080/"
        },
        "id": "W0hG4UZt70BI",
        "outputId": "cd1bd9fb-b79a-4142-8145-73f78866a890"
      },
      "outputs": [
        {
          "output_type": "stream",
          "name": "stdout",
          "text": [
            "¡Bienvenidos al Juego de Adivinanza de Número!\n",
            "Estoy pensando en un número entre 1 y 100. ¡Intenta adivinarlo!\n",
            "Ingresa tu adivinaza: 60\n",
            "Demasiado bajo.¡Intenta de nuevo!\n",
            "Ingresa tu adivinaza: 70\n",
            "Demasiado bajo.¡Intenta de nuevo!\n",
            "Ingresa tu adivinaza: 80\n",
            "Demasiado bajo.¡Intenta de nuevo!\n",
            "Ingresa tu adivinaza: 90\n",
            "Demasiado bajo.¡Intenta de nuevo!\n",
            "Ingresa tu adivinaza: 95\n",
            "Demasiado bajo.¡Intenta de nuevo!\n",
            "Ingresa tu adivinaza: 98\n",
            "¡Felicidades! Adivinaste el número 98!\n",
            "Te tomó 6 intentos adivinar el número.\n",
            "¡Gracias por jugar!\n"
          ]
        }
      ],
      "source": [
        "#Importamos el modulo random\n",
        "#Este módulo contiene funciones para generar números aleatorios.\n",
        "import random\n",
        "\n",
        "#Generamos un número entero aleatorio entre 1 y 100 (ambos incluidos).\n",
        "#La función 'randint(a, b)' devuelve un entero aleatorio N tal que a <= N <= b.\n",
        "numero_secreto = random.randint(1, 100)\n",
        "\n",
        "#Inicializamos el contador de intentos.\n",
        "#Emoezamos en 0 porque el usuario aón no ha hecho ningún intento.\n",
        "intentos = 0\n",
        "\n",
        "#Establecemos una bandera para controlar el bucle del juego.\n",
        "#'False' significa que el ususario aún no ha adivinado el número.\n",
        "adivinado = False\n",
        "\n",
        "#Imprimimos un menasaje de bienvenida e intrucciones para el ususario.\n",
        "print(\"¡Bienvenidos al Juego de Adivinanza de Número!\")\n",
        "print(\"Estoy pensando en un número entre 1 y 100. ¡Intenta adivinarlo!\")\n",
        "\n",
        "#El bucle 'white' continuará ejecutándose MIENTRAS la condición 'adivinando = false'.\n",
        "#Es decir, el juego segguirá mientras el usuario NO haya adivinado el número secreto.\n",
        "while adivinado == False:\n",
        "  #Iniciamos el contador de intentos con cada iteración del bucle.\n",
        "  #Cada vez que el bucle se ejecuta (es un nuevo intento), sumamos 1 a 'intentos'.\n",
        "  intentos += 1\n",
        "\n",
        "  #Pedimos al usuario que ingrese su adivinanza.\n",
        "  #Usamos 'int(input())' para asegurarnos de que la entrada sea un número entero.\n",
        "  try:\n",
        "    adivinanza = int(input(\"Ingresa tu adivinaza: \"))\n",
        "  except ValueError:\n",
        "    #Manejo de error: si el usuario no ingresa un número válido.\n",
        "    print(\"Entrada no válida. Por favor, ingresa un número entero\")\n",
        "    #Restamos 1 al contador de intentos por que esta entrada no cuenta como un intento valido.\n",
        "    intentos -= 1\n",
        "    #Saltamos al inicio del bucle para pedir otra vez la entrada.\n",
        "    continue\n",
        "\n",
        "  #Comparamos la adivinanza del usuario con el mismo número secreto.\n",
        "  if adivinanza < numero_secreto:\n",
        "    #Si la adivinanza es meno9r que el número secreto, damos una pista.\n",
        "    print(\"Demasiado bajo.¡Intenta de nuevo!\")\n",
        "  elif adivinanza > numero_secreto:\n",
        "    #Si la adivinanza es mayor que el número secreto, damos otra pista.\n",
        "    print(\"Demasiado alto.¡Intenta de nuevo!\")\n",
        "  else:\n",
        "    #Si la adivinanza no es ni menor ni mayor, significa que es igual.\n",
        "    #¡El usuario no ha adivinado el número!\n",
        "    print(f\"¡Felicidades! Adivinaste el número {numero_secreto}!\")\n",
        "    #Cambiamos la bandera 'adivinado' a 'True' para salir del bucle\n",
        "    adivinado = True\n",
        "\n",
        "#Una vez que el bucle 'white' termina (porque 'adivinado' es True).\n",
        "#Este código se ejecuta.\n",
        "print(f\"Te tomó {intentos} intentos adivinar el número.\")\n",
        "print(\"¡Gracias por jugar!\")"
      ]
    }
  ]
}